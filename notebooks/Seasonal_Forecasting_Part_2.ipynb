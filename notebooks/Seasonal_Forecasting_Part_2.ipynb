{
  "nbformat": 4,
  "nbformat_minor": 0,
  "metadata": {
    "colab": {
      "name": "Seasonal_Forecasting_Part_2",
      "provenance": [],
      "collapsed_sections": [],
      "authorship_tag": "ABX9TyMnqUKSrfShja2BCGiZHxKd",
      "include_colab_link": true
    },
    "kernelspec": {
      "name": "python3",
      "display_name": "Python 3"
    },
    "accelerator": "GPU"
  },
  "cells": [
    {
      "cell_type": "markdown",
      "metadata": {
        "id": "view-in-github",
        "colab_type": "text"
      },
      "source": [
        "<a href=\"https://colab.research.google.com/github/ankurmahesh/ai4ess-hackathon-2020/blob/amahesh/notebooks/Seasonal_Forecasting_Part_2.ipynb\" target=\"_parent\"><img src=\"https://colab.research.google.com/assets/colab-badge.svg\" alt=\"Open In Colab\"/></a>"
      ]
    },
    {
      "cell_type": "markdown",
      "metadata": {
        "id": "OJ2yYyj75AMA",
        "colab_type": "text"
      },
      "source": [
        "This notebook was made by Ankur Mahesh.  Please email mahesh.ankur10@gmail.com if you have any questions!!\n"
      ]
    },
    {
      "cell_type": "code",
      "metadata": {
        "id": "c0y9BTHa03SH",
        "colab_type": "code",
        "colab": {
          "base_uri": "https://localhost:8080/",
          "height": 68
        },
        "outputId": "efc0c58f-3f06-4496-981a-7b7563794e41"
      },
      "source": [
        "%matplotlib inline\n",
        "import xarray as xr\n",
        "import pandas as pd\n",
        "import numpy as np\n",
        "from matplotlib import pyplot as plt\n",
        "import sklearn\n",
        "import sklearn.ensemble\n",
        "import scipy.stats\n",
        "from sklearn.model_selection import train_test_split \n",
        "from tqdm import tqdm\n",
        "import torch\n",
        "import torchvision\n",
        "import torch.nn as nn\n",
        "import torch.nn.functional as F\n",
        "import torch.optim as optim\n",
        "from torch.utils.data import Dataset, DataLoader\n",
        "from scipy.stats import pearsonr\n",
        "from sklearn.metrics import mean_squared_error\n",
        "!pip install netCDF4\n"
      ],
      "execution_count": null,
      "outputs": [
        {
          "output_type": "stream",
          "text": [
            "Requirement already satisfied: netCDF4 in /usr/local/lib/python3.6/dist-packages (1.5.3)\n",
            "Requirement already satisfied: cftime in /usr/local/lib/python3.6/dist-packages (from netCDF4) (1.0.4.2)\n",
            "Requirement already satisfied: numpy>=1.7 in /usr/local/lib/python3.6/dist-packages (from netCDF4) (1.17.5)\n"
          ],
          "name": "stdout"
        }
      ]
    },
    {
      "cell_type": "code",
      "metadata": {
        "id": "pGhVPiRY1u5d",
        "colab_type": "code",
        "colab": {
          "base_uri": "https://localhost:8080/",
          "height": 527
        },
        "outputId": "42268f43-ff15-4862-e733-5396fe390d9c"
      },
      "source": [
        "#Download the data that we will use for this tutorial\n",
        "!wget http://portal.nersc.gov/project/dasrepo/AGU_ML_Tutorial/sst.mon.mean.trefadj.anom.1880to2018.nc\n",
        "!wget http://portal.nersc.gov/project/dasrepo/AGU_ML_Tutorial/nino34.long.anom.data.txt"
      ],
      "execution_count": null,
      "outputs": [
        {
          "output_type": "stream",
          "text": [
            "--2020-01-12 08:06:46--  http://portal.nersc.gov/project/dasrepo/AGU_ML_Tutorial/sst.mon.mean.trefadj.anom.1880to2018.nc\n",
            "Resolving portal.nersc.gov (portal.nersc.gov)... 128.55.201.128\n",
            "Connecting to portal.nersc.gov (portal.nersc.gov)|128.55.201.128|:80... connected.\n",
            "HTTP request sent, awaiting response... 301 Moved Permanently\n",
            "Location: https://portal.nersc.gov/project/dasrepo/AGU_ML_Tutorial/sst.mon.mean.trefadj.anom.1880to2018.nc [following]\n",
            "--2020-01-12 08:06:47--  https://portal.nersc.gov/project/dasrepo/AGU_ML_Tutorial/sst.mon.mean.trefadj.anom.1880to2018.nc\n",
            "Connecting to portal.nersc.gov (portal.nersc.gov)|128.55.201.128|:443... connected.\n",
            "HTTP request sent, awaiting response... 200 OK\n",
            "Length: 432481041 (412M) [application/x-netcdf]\n",
            "Saving to: ‘sst.mon.mean.trefadj.anom.1880to2018.nc.1’\n",
            "\n",
            "sst.mon.mean.trefad 100%[===================>] 412.45M  18.9MB/s    in 23s     \n",
            "\n",
            "2020-01-12 08:07:10 (17.9 MB/s) - ‘sst.mon.mean.trefadj.anom.1880to2018.nc.1’ saved [432481041/432481041]\n",
            "\n",
            "--2020-01-12 08:07:11--  http://portal.nersc.gov/project/dasrepo/AGU_ML_Tutorial/nino34.long.anom.data.txt\n",
            "Resolving portal.nersc.gov (portal.nersc.gov)... 128.55.201.128\n",
            "Connecting to portal.nersc.gov (portal.nersc.gov)|128.55.201.128|:80... connected.\n",
            "HTTP request sent, awaiting response... 301 Moved Permanently\n",
            "Location: https://portal.nersc.gov/project/dasrepo/AGU_ML_Tutorial/nino34.long.anom.data.txt [following]\n",
            "--2020-01-12 08:07:11--  https://portal.nersc.gov/project/dasrepo/AGU_ML_Tutorial/nino34.long.anom.data.txt\n",
            "Connecting to portal.nersc.gov (portal.nersc.gov)|128.55.201.128|:443... connected.\n",
            "HTTP request sent, awaiting response... 200 OK\n",
            "Length: 15449 (15K) [text/plain]\n",
            "Saving to: ‘nino34.long.anom.data.txt.1’\n",
            "\n",
            "nino34.long.anom.da 100%[===================>]  15.09K  99.0KB/s    in 0.2s    \n",
            "\n",
            "2020-01-12 08:07:12 (99.0 KB/s) - ‘nino34.long.anom.data.txt.1’ saved [15449/15449]\n",
            "\n"
          ],
          "name": "stdout"
        }
      ]
    },
    {
      "cell_type": "markdown",
      "metadata": {
        "id": "qwqgCicrjOoa",
        "colab_type": "text"
      },
      "source": [
        "# Introduction\n",
        "Welcome to the hackathon!  In this section of the hackathon, we will be forecasting El Nino with machine learning, and we will explore various machine learning problems along the way.  \n",
        "\n",
        "Here are two recent papers that were successful in forecasting El Niño with machine learning ([here](https://www.nature.com/articles/s41586-019-1559-7) and [here](https://www.climatechange.ai/CameraReadySubmissions%202-119/119/CameraReadySubmission/Forecasting_El_Nino_with_Convolutional_and_Recurrent_Neural_Networks(1).pdf)).  We will explore a number of machine learning questions, including\n",
        "\n",
        "\n",
        "*   hyperparameter tuning\n",
        "*   classification vs. regression\n",
        "*   model selection: convolutional neural networks vs. hybrid convolutional and recurrent neural networks\n",
        "*   interpretability\n",
        "*   benchmarking with traditional (i.e. non-deep learning) machine learning algorithms\n",
        "*   data preparation\n",
        "*   more data \n",
        "\n",
        "This is the second notebook in a series. It is **strongly** recommended that you first complete the Fundamentals of Machine Learning Colab notebook available [here](https://https://colab.research.google.com/drive/1Qo4JD3hQF9V2f0na2JOQ5XbsL_uiS7Kl#offline=true&sandboxMode=true).  Even if you are an expert, this notebook also uses the ENSO dataset and goes over important topics (How do you properly divide data into a train set and a test set? What is overfitting?  What is bias and variance?) that will assist you with this notebook. \n",
        "\n",
        "\n",
        "\n"
      ]
    },
    {
      "cell_type": "markdown",
      "metadata": {
        "id": "hmdxdmLsYk71",
        "colab_type": "text"
      },
      "source": [
        "## THE HACKATHON TASK: ENSO FORECASTING\n",
        "Background:  El Niño/ Southern Oscillation (ENSO) is measured by the Nino3.4 index, a rolling 3-month average of equatorial Pacific temperatures.  We will train a neural network to forecast the Niño3.4 index at various lead times.  We will also explore and benchmark the use of other machine learning techniques, and we will explore the benefit of ensembling.\n",
        "\n",
        "We will develop machine learning models to forecast ENSO.  There are two common metrics for measuring the performance of ML models for this task: RMSE (root-mean-squared error) and correlation.\n",
        "\n",
        "Some terms:\n",
        "*   predictor     : the input to a machine learning model: a certain number of months (that you define) of gridded temperature)\n",
        "*   predictand    : the true value the model is trying to predict (i.e. the true Niño3.4 index)\n",
        "*   prediction    : the output of the machine learning model\n",
        "\n",
        "Let's get started: first, let's load the data.  **PLEASE READ THE DOCSTRING FOR THE `assemble_predictors_predictands` function!** It is essential to understand the arguments to this function as we explore different scientific/ machine learning questions later on in this hackathon."
      ]
    },
    {
      "cell_type": "code",
      "metadata": {
        "id": "nWPzmpijXnSF",
        "colab_type": "code",
        "colab": {}
      },
      "source": [
        "#Scaffold code to load in data.  This code cell is mostly data wrangling\n",
        "\n",
        "\n",
        "def load_enso_indices():\n",
        "  \"\"\"\n",
        "  Reads in the txt data file to output a pandas Series of ENSO vals\n",
        "\n",
        "  outputs\n",
        "  -------\n",
        "\n",
        "    pd.Series : monthly ENSO values starting from 1870-01-01\n",
        "  \"\"\"\n",
        "  with open('nino34.long.anom.data.txt') as f:\n",
        "    line = f.readline()\n",
        "    enso_vals = []\n",
        "    while line:\n",
        "        yearly_enso_vals = map(float, line.split()[1:])\n",
        "        enso_vals.extend(yearly_enso_vals)\n",
        "        line = f.readline()\n",
        "\n",
        "  enso_vals = pd.Series(enso_vals)\n",
        "  enso_vals.index = pd.date_range('1870-01-01',freq='MS',\n",
        "                                  periods=len(enso_vals))\n",
        "  enso_vals.index = pd.to_datetime(enso_vals.index)\n",
        "  return enso_vals\n",
        "\n",
        "def assemble_predictors_predictands(start_date, end_date, lead_time, \n",
        "                                    dataset, data_format,\n",
        "                                    num_input_time_steps=1,\n",
        "                                    use_pca=False, n_components=32,\n",
        "                                    lat_slice=None, lon_slice=None):\n",
        "  \"\"\"\n",
        "  inputs\n",
        "  ------\n",
        "\n",
        "      start_date           str : the start date from which to extract sst\n",
        "      end_date             str : the end date \n",
        "      lead_time            str : the number of months between each sst\n",
        "                              value and the target Nino3.4 Index\n",
        "      dataset              str : 'observations' 'CNRM' or 'MPI'\n",
        "      data_format          str : 'spatial' or 'flatten'. 'spatial' preserves\n",
        "                                  the lat/lon dimensions and returns an \n",
        "                                  array of shape (num_samples, num_input_time_steps,\n",
        "                                  lat, lon).  'flatten' returns an array of shape\n",
        "                                  (num_samples, num_input_time_steps*lat*lon)\n",
        "      num_input_time_steps int : the number of time steps to use for each \n",
        "                                 predictor sample\n",
        "      use_pca             bool : whether or not to apply principal components\n",
        "                              analysis to the sst field\n",
        "      n_components         int : the number of components to use for PCA\n",
        "      lat_slice           slice: the slice of latitudes to use \n",
        "      lon_slice           slice: the slice of longitudes to use\n",
        "\n",
        "  outputs\n",
        "  -------\n",
        "      Returns a tuple of the predictors (np array of sst temperature anomalies) \n",
        "      and the predictands (np array the ENSO index at the specified lead time).\n",
        "\n",
        "  \"\"\"\n",
        "  file_name = {'observations' : 'sst.mon.mean.trefadj.anom.1880to2018.nc',\n",
        "               'CNRM'         : 'CNRM_tas_anomalies_regridded.nc',\n",
        "               'MPI'          : 'MPI_tas_anomalies_regridded.nc'}[dataset]\n",
        "  variable_name = {'observations' : 'sst',\n",
        "                   'CNRM'         : 'tas',\n",
        "                   'MPI'          : 'tas'}[dataset]\n",
        "  ds = xr.open_dataset(file_name)\n",
        "  sst = ds[variable_name].sel(time=slice(start_date, end_date))\n",
        "  if lat_slice is not None:\n",
        "    \"\"\"YOUR CODE HERE\"\"\"\n",
        "    raise NotImplementedError(\"In EXERCISE 7, you must implement the slicing!\")\n",
        "  if lon_slice is not None:\n",
        "    \"\"\"YOUR CODE HERE\"\"\"\n",
        "    raise NotImplementedError(\"In EXERCISE 7, you must implement the slicing!\")\n",
        "  \n",
        "  \n",
        "  num_samples = sst.shape[0]\n",
        "  #sst is a (num_samples, lat, lon) array\n",
        "  #the line below converts it to (num_samples, num_input_time_steps, lat, lon)\n",
        "  sst = np.stack([sst.values[n-num_input_time_steps:n] for n in range(num_input_time_steps,\n",
        "                                                              num_samples+1)])\n",
        "  #CHALLENGE: CAN YOU IMPLEMENT THE ABOVE LINE WITHOUT A FOR LOOP?\n",
        "  num_samples = sst.shape[0]\n",
        "\n",
        "  sst[np.isnan(sst)] = 0\n",
        "  if data_format=='flatten':\n",
        "    #sst is a 3D array: (time_steps, lat, lon)\n",
        "    #in this tutorial, we will not be using ML models that take\n",
        "    #advantage of the spatial nature of global temperature\n",
        "    #therefore, we reshape sst into a 2D array: (time_steps, lat*lon)\n",
        "    #(At each time step, there are lat*lon predictors)\n",
        "    sst = sst.reshape(num_samples, -1)\n",
        "    \n",
        "\n",
        "    #Use Principal Components Analysis, also called\n",
        "    #Empirical Orthogonal Functions, to reduce the\n",
        "    #dimensionality of the array\n",
        "    if use_pca:\n",
        "      pca = sklearn.decomposition.PCA(n_components=n_components)\n",
        "      pca.fit(sst)\n",
        "      X = pca.transform(sst)\n",
        "    else:\n",
        "      X = sst\n",
        "  else: # data_format=='spatial'\n",
        "    X = sst\n",
        "\n",
        "  start_date_plus_lead = pd.to_datetime(start_date) + \\\n",
        "                        pd.DateOffset(months=lead_time+num_input_time_steps-1)\n",
        "  end_date_plus_lead = pd.to_datetime(end_date) + \\\n",
        "                      pd.DateOffset(months=lead_time)\n",
        "  if dataset == 'observations':\n",
        "    y = load_enso_indices()[slice(start_date_plus_lead, \n",
        "                                  end_date_plus_lead)]\n",
        "  else: #the data is from a GCM\n",
        "    X = X.astype(np.float32)\n",
        "    #The Nino3.4 Index is composed of three month rolling values\n",
        "    #Therefore, when calculating the Nino3.4 Index in a GCM\n",
        "    #we have to extract the two months prior to the first target start date\n",
        "    target_start_date_with_2_month = start_date_plus_lead - pd.DateOffset(months=2)\n",
        "    subsetted_ds = ds[variable_name].sel(time=slice(target_start_date_with_2_month,\n",
        "                                                   end_date_plus_lead))\n",
        "    \n",
        "    y = subsetted_ds.sel(lat=slice(5,-5), lon=slice(360-170,360-120)).mean(dim=('lat','lon'))\n",
        "\n",
        "    y = pd.Series(y.values).rolling(window=3).mean()[2:].values\n",
        "    y = y.astype(np.float32)\n",
        "  ds.close()\n",
        "  return X, y\n",
        "\n",
        "\n",
        "class ENSODataset(Dataset):\n",
        "    def __init__(self, predictors, predictands):\n",
        "        self.predictors = predictors\n",
        "        self.predictands = predictands\n",
        "        assert self.predictors.shape[0] == self.predictands.shape[0], \\\n",
        "               \"The number of predictors must equal the number of predictands!\"\n",
        "\n",
        "    def __len__(self):\n",
        "        return self.predictors.shape[0]\n",
        "\n",
        "    def __getitem__(self, idx):\n",
        "        return self.predictors[idx], self.predictands[idx]"
      ],
      "execution_count": null,
      "outputs": []
    },
    {
      "cell_type": "markdown",
      "metadata": {
        "id": "N1ds8Z3xi_M5",
        "colab_type": "text"
      },
      "source": [
        "**IMPORTANT info about `num_input_time_steps`:** `num_input_time_steps` refers to the number of time steps for each predictor.  For example, if `num_input_time_steps` is set to 3, then the machine learning model will take 3 months as its input.  In other words, a sample predictor will be 3 months of average temperature: Jan average temperature, Feb average temperature, and March average temperature (i.e. an array of (3, lat, lon)).  The predictand will be the Niño3.4 index `lead_time` months after March.\n",
        "\n",
        "Let's define a simple convolutional neural network to start.  \n"
      ]
    },
    {
      "cell_type": "markdown",
      "metadata": {
        "id": "qzrbTHq4cEvr",
        "colab_type": "text"
      },
      "source": [
        "# Exercise 1: Train A Simple Convolutional Neural Network to Forecast ENSO\n",
        "\n",
        "\n",
        "Let's define a simple convolutional neural network architecture.  This architecture has 1 convolutional layer, followed by a pooling layer, followed by another convolutional layer, followed by three fully connected layers (called `nn.Linear` layers).  The output of the final fully connected layer is a 1-D array, since we are trying to forecast 1 value: the target ENSO index.\n",
        "\n"
      ]
    },
    {
      "cell_type": "code",
      "metadata": {
        "id": "MhKXwTMRi-lD",
        "colab_type": "code",
        "colab": {}
      },
      "source": [
        "class CNN(nn.Module):\n",
        "    def __init__(self, num_input_time_steps=1, print_feature_dimension=False):\n",
        "        \"\"\"\n",
        "        inputs\n",
        "        -------\n",
        "            num_input_time_steps        (int) : the number of input time\n",
        "                                                steps in the predictor\n",
        "            print_feature_dimension    (bool) : whether or not to print\n",
        "                                                out the dimension of the features\n",
        "                                                extracted from the conv layers\n",
        "        \"\"\"\n",
        "        super(CNN, self).__init__()\n",
        "        self.conv1 = nn.Conv2d(num_input_time_steps, 6, 3)\n",
        "        self.pool = nn.MaxPool2d(2, 2)\n",
        "        self.conv2 = nn.Conv2d(6, 16, 5)\n",
        "        self.print_layer = Print()\n",
        "        \n",
        "        #ATTENTION EXERCISE 9: print out the dimension of the extracted features from \n",
        "        #the conv layers for setting the dimension of the linear layer!\n",
        "        #Using the print_layer, we find that the dimensions are \n",
        "        #(batch_size, 16, 42, 87)\n",
        "        self.fc1 = nn.Linear(16 * 42 * 87, 120)\n",
        "        self.fc2 = nn.Linear(120, 84)\n",
        "        self.fc3 = nn.Linear(84, 1)\n",
        "        self.print_feature_dimension = print_feature_dimension\n",
        "\n",
        "    def forward(self, x):\n",
        "        x = self.pool(F.relu(self.conv1(x)))\n",
        "        x = self.pool(F.relu(self.conv2(x)))\n",
        "        if self.print_feature_dimension:\n",
        "          x = self.print_layer(x)\n",
        "        x = x.view(-1, 16 * 42 * 87)\n",
        "        x = F.relu(self.fc1(x))\n",
        "        x = F.relu(self.fc2(x))\n",
        "        x = self.fc3(x)\n",
        "        return x\n",
        "\n",
        "class Print(nn.Module):\n",
        "    \"\"\"\n",
        "    This class prints out the size of the features\n",
        "    \"\"\"\n",
        "    def forward(self, x):\n",
        "        print(x.size())\n",
        "        return x"
      ],
      "execution_count": null,
      "outputs": []
    },
    {
      "cell_type": "markdown",
      "metadata": {
        "id": "1bdkPbniwbo0",
        "colab_type": "text"
      },
      "source": [
        "Next, let's define a method that trains our neural network.  \n",
        "\n",
        "**IMPORTANT** Reading through this method will help you understand each step in the process of training a neural network!"
      ]
    },
    {
      "cell_type": "code",
      "metadata": {
        "id": "JO6VFcd_2g1J",
        "colab_type": "code",
        "colab": {}
      },
      "source": [
        "def train_network(net, criterion, optimizer, trainloader, testloader, \n",
        "                  experiment_name, num_epochs=40):\n",
        "  \"\"\"\n",
        "  inputs\n",
        "  ------\n",
        "\n",
        "      net               (nn.Module)   : the neural network architecture\n",
        "      criterion         (nn)          : the loss function (i.e. root mean squared error)\n",
        "      optimizer         (torch.optim) : the optimizer to use update the neural network \n",
        "                                        architecture to minimize the loss function\n",
        "      trainloader       (torch.utils.data.DataLoader): dataloader that loads the\n",
        "                                        predictors and predictands\n",
        "                                        for the train dataset\n",
        "      testloader        (torch.utils.data. DataLoader): dataloader that loads the\n",
        "                                        predictors and predictands\n",
        "                                        for the test dataset\n",
        "  outputs\n",
        "  -------\n",
        "      predictions (np.array), and saves the trained neural network as a .pt file\n",
        "  \"\"\"\n",
        "  device = \"cuda:0\" if torch.cuda.is_available() else \"cpu\"\n",
        "  net = net.to(device)\n",
        "  best_loss = np.infty\n",
        "  train_losses, test_losses = [], []\n",
        "\n",
        "  for epoch in range(num_epochs):\n",
        "    for mode, data_loader in [('train', trainloader), ('test', testloader)]:\n",
        "      #Set the model to train mode to allow its weights to be updated\n",
        "      #while training\n",
        "      if mode == 'train':\n",
        "        net.train()\n",
        "\n",
        "      #Set the model to eval model to prevent its weights from being updated\n",
        "      #while testing\n",
        "      elif mode == 'test':\n",
        "        net.eval()\n",
        "\n",
        "      running_loss = 0.0\n",
        "      for i, data in enumerate(data_loader):\n",
        "          # get a mini-batch of predictors and predictands\n",
        "          batch_predictors, batch_predictands = data\n",
        "          batch_predictands = batch_predictands.to(device)\n",
        "          batch_predictors = batch_predictors.to(device)\n",
        "\n",
        "          # zero the parameter gradients\n",
        "          optimizer.zero_grad()\n",
        "\n",
        "          #calculate the predictions of the current neural network\n",
        "          predictions = net(batch_predictors).squeeze()\n",
        "\n",
        "          #quantify the quality of the predictions using a\n",
        "          #loss function (aka criterion) that is differentiable\n",
        "          loss = criterion(predictions, batch_predictands)\n",
        "\n",
        "          if mode == 'train':\n",
        "            #the 'backward pass: calculates the gradients of each weight\n",
        "            #of the neural network with respect to the loss\n",
        "            loss.backward()\n",
        "\n",
        "            #the optimizer updates the weights of the neural network\n",
        "            #based on the gradients calculated above and the choice\n",
        "            #of optimization algorithm\n",
        "            optimizer.step()\n",
        "          \n",
        "          #Save the model weights that have the best performance!\n",
        "        \n",
        "\n",
        "          running_loss += loss.item()\n",
        "      if running_loss < best_loss and mode == 'test':\n",
        "          best_loss = running_loss\n",
        "          torch.save(net, '{}.pt'.format(experiment_name))\n",
        "      print('{} Set: Epoch {:02d}. loss: {:3f}'.format(mode, epoch+1, \\\n",
        "                                            running_loss/len(data_loader)))\n",
        "      if mode == 'train':\n",
        "          train_losses.append(running_loss/len(data_loader))\n",
        "      else:\n",
        "          test_losses.append(running_loss/len(data_loader))\n",
        "    \n",
        "  net = torch.load('{}.pt'.format(experiment_name))\n",
        "  net.eval()\n",
        "  net.to(device)\n",
        "  \n",
        "  #the remainder of this notebook calculates the predictions of the best\n",
        "  #saved model\n",
        "  predictions = np.asarray([])\n",
        "  for i, data in enumerate(testloader):\n",
        "    batch_predictors, batch_predictands = data\n",
        "    batch_predictands = batch_predictands.to(device)\n",
        "    batch_predictors = batch_predictors.to(device)\n",
        "\n",
        "    batch_predictions = net(batch_predictors).squeeze()\n",
        "    #Edge case: if there is 1 item in the batch, batch_predictions becomes a float\n",
        "    #not a Tensor. the if statement below converts it to a Tensor\n",
        "    #so that it is compatible with np.concatenate\n",
        "    if len(batch_predictions.size()) == 0:\n",
        "      batch_predictions = torch.Tensor([batch_predictions])\n",
        "    predictions = np.concatenate([predictions, batch_predictions.detach().cpu().numpy()])\n",
        "  return predictions, train_losses, test_losses\n"
      ],
      "execution_count": null,
      "outputs": []
    },
    {
      "cell_type": "code",
      "metadata": {
        "id": "4gWsaQGg3JCM",
        "colab_type": "code",
        "colab": {
          "base_uri": "https://localhost:8080/",
          "height": 1000
        },
        "outputId": "f3f69b2f-927b-4fdf-c26d-ee989af3df6c"
      },
      "source": [
        "#Assemble numpy arrays corresponding to predictors and predictands\n",
        "train_start_date = '1960-01-01'\n",
        "train_end_date = '2005-12-31'\n",
        "num_input_time_steps = 2\n",
        "lead_time = 2\n",
        "train_predictors, train_predictands = assemble_predictors_predictands(train_start_date,\n",
        "                      train_end_date, lead_time, 'observations', 'spatial', num_input_time_steps=num_input_time_steps)\n",
        "test_predictors, test_predictands = assemble_predictors_predictands('2007-01-01',\n",
        "                    '2017-12-31', lead_time, 'observations', 'spatial', num_input_time_steps=num_input_time_steps)\n",
        "\n",
        "#Convert the numpy ararys into ENSODataset, which is a subset of the \n",
        "#torch.utils.data.Dataset class.  This class is compatible with\n",
        "#the torch dataloader, which allows for data loading for a CNN\n",
        "train_dataset = ENSODataset(train_predictors, train_predictands)\n",
        "test_dataset = ENSODataset(test_predictors, test_predictands)\n",
        "\n",
        "#Create a torch.utils.data.DataLoader from the ENSODatasets() created earlier!\n",
        "#the similarity between the name DataLoader and Dataset in the pytorch API is unfortunate...\n",
        "trainloader = DataLoader(train_dataset, batch_size=10)\n",
        "testloader = DataLoader(test_dataset, batch_size=10)\n",
        "net = CNN(num_input_time_steps=num_input_time_steps)\n",
        "optimizer = optim.Adam(net.parameters(), lr=0.0001)\n",
        "\n",
        "experiment_name = \"twolayerCNN_{}_{}\".format(train_start_date, train_end_date)\n",
        "predictions, train_losses, test_losses = train_network(net, nn.MSELoss(), \n",
        "                  optimizer, trainloader, testloader, experiment_name)"
      ],
      "execution_count": null,
      "outputs": [
        {
          "output_type": "stream",
          "text": [
            "train Set: Epoch 01. loss: 0.704704\n",
            "test Set: Epoch 01. loss: 0.835668\n"
          ],
          "name": "stdout"
        },
        {
          "output_type": "stream",
          "text": [
            "/usr/local/lib/python3.6/dist-packages/torch/serialization.py:292: UserWarning: Couldn't retrieve source code for container of type CNN. It won't be checked for correctness upon loading.\n",
            "  \"type \" + obj.__name__ + \". It won't be checked \"\n",
            "/usr/local/lib/python3.6/dist-packages/torch/serialization.py:292: UserWarning: Couldn't retrieve source code for container of type Conv2d. It won't be checked for correctness upon loading.\n",
            "  \"type \" + obj.__name__ + \". It won't be checked \"\n",
            "/usr/local/lib/python3.6/dist-packages/torch/serialization.py:292: UserWarning: Couldn't retrieve source code for container of type MaxPool2d. It won't be checked for correctness upon loading.\n",
            "  \"type \" + obj.__name__ + \". It won't be checked \"\n",
            "/usr/local/lib/python3.6/dist-packages/torch/serialization.py:292: UserWarning: Couldn't retrieve source code for container of type Print. It won't be checked for correctness upon loading.\n",
            "  \"type \" + obj.__name__ + \". It won't be checked \"\n",
            "/usr/local/lib/python3.6/dist-packages/torch/serialization.py:292: UserWarning: Couldn't retrieve source code for container of type Linear. It won't be checked for correctness upon loading.\n",
            "  \"type \" + obj.__name__ + \". It won't be checked \"\n"
          ],
          "name": "stderr"
        },
        {
          "output_type": "stream",
          "text": [
            "train Set: Epoch 02. loss: 0.583202\n",
            "test Set: Epoch 02. loss: 0.642975\n",
            "train Set: Epoch 03. loss: 0.392284\n",
            "test Set: Epoch 03. loss: 0.526734\n",
            "train Set: Epoch 04. loss: 0.292264\n",
            "test Set: Epoch 04. loss: 0.434184\n",
            "train Set: Epoch 05. loss: 0.242922\n",
            "test Set: Epoch 05. loss: 0.526305\n",
            "train Set: Epoch 06. loss: 0.202982\n",
            "test Set: Epoch 06. loss: 0.463523\n",
            "train Set: Epoch 07. loss: 0.166644\n",
            "test Set: Epoch 07. loss: 0.399631\n",
            "train Set: Epoch 08. loss: 0.190502\n",
            "test Set: Epoch 08. loss: 0.507552\n",
            "train Set: Epoch 09. loss: 0.184624\n",
            "test Set: Epoch 09. loss: 0.385237\n",
            "train Set: Epoch 10. loss: 0.217394\n",
            "test Set: Epoch 10. loss: 0.462174\n",
            "train Set: Epoch 11. loss: 0.174720\n",
            "test Set: Epoch 11. loss: 0.405323\n",
            "train Set: Epoch 12. loss: 0.155505\n",
            "test Set: Epoch 12. loss: 0.517581\n",
            "train Set: Epoch 13. loss: 0.114338\n",
            "test Set: Epoch 13. loss: 0.579958\n",
            "train Set: Epoch 14. loss: 0.129908\n",
            "test Set: Epoch 14. loss: 0.947891\n",
            "train Set: Epoch 15. loss: 0.115168\n",
            "test Set: Epoch 15. loss: 1.231004\n",
            "train Set: Epoch 16. loss: 0.130365\n",
            "test Set: Epoch 16. loss: 0.900623\n",
            "train Set: Epoch 17. loss: 0.153428\n",
            "test Set: Epoch 17. loss: 0.585642\n",
            "train Set: Epoch 18. loss: 0.107808\n",
            "test Set: Epoch 18. loss: 0.486501\n",
            "train Set: Epoch 19. loss: 0.075840\n",
            "test Set: Epoch 19. loss: 0.476056\n",
            "train Set: Epoch 20. loss: 0.059245\n",
            "test Set: Epoch 20. loss: 0.522255\n",
            "train Set: Epoch 21. loss: 0.054347\n",
            "test Set: Epoch 21. loss: 0.639773\n",
            "train Set: Epoch 22. loss: 0.044016\n",
            "test Set: Epoch 22. loss: 0.763325\n",
            "train Set: Epoch 23. loss: 0.038222\n",
            "test Set: Epoch 23. loss: 0.744355\n",
            "train Set: Epoch 24. loss: 0.042063\n",
            "test Set: Epoch 24. loss: 0.656094\n",
            "train Set: Epoch 25. loss: 0.039387\n",
            "test Set: Epoch 25. loss: 0.563898\n",
            "train Set: Epoch 26. loss: 0.033828\n",
            "test Set: Epoch 26. loss: 0.480762\n",
            "train Set: Epoch 27. loss: 0.034439\n",
            "test Set: Epoch 27. loss: 0.459172\n",
            "train Set: Epoch 28. loss: 0.038748\n",
            "test Set: Epoch 28. loss: 0.515477\n",
            "train Set: Epoch 29. loss: 0.038052\n",
            "test Set: Epoch 29. loss: 0.648462\n",
            "train Set: Epoch 30. loss: 0.031761\n",
            "test Set: Epoch 30. loss: 0.850003\n",
            "train Set: Epoch 31. loss: 0.034638\n",
            "test Set: Epoch 31. loss: 0.666907\n",
            "train Set: Epoch 32. loss: 0.047420\n",
            "test Set: Epoch 32. loss: 0.800407\n",
            "train Set: Epoch 33. loss: 0.046323\n",
            "test Set: Epoch 33. loss: 0.764542\n",
            "train Set: Epoch 34. loss: 0.050971\n",
            "test Set: Epoch 34. loss: 0.465215\n",
            "train Set: Epoch 35. loss: 0.045787\n",
            "test Set: Epoch 35. loss: 0.452041\n",
            "train Set: Epoch 36. loss: 0.034496\n",
            "test Set: Epoch 36. loss: 0.506324\n",
            "train Set: Epoch 37. loss: 0.034592\n",
            "test Set: Epoch 37. loss: 0.537038\n",
            "train Set: Epoch 38. loss: 0.041791\n",
            "test Set: Epoch 38. loss: 0.754848\n",
            "train Set: Epoch 39. loss: 0.036543\n",
            "test Set: Epoch 39. loss: 0.848940\n",
            "train Set: Epoch 40. loss: 0.040449\n",
            "test Set: Epoch 40. loss: 0.822307\n"
          ],
          "name": "stdout"
        }
      ]
    },
    {
      "cell_type": "code",
      "metadata": {
        "id": "5qawbpfhQuAf",
        "colab_type": "code",
        "colab": {
          "base_uri": "https://localhost:8080/",
          "height": 295
        },
        "outputId": "7ad84543-b3bf-48aa-98e3-2d74f56c2c4c"
      },
      "source": [
        "plt.plot(train_losses, label='Train Loss')\n",
        "plt.plot(test_losses, label='Test Loss')\n",
        "plt.xlabel('Epoch')\n",
        "plt.ylabel('Loss')\n",
        "plt.title('Performance of {} Neural Network During Training'.format(experiment_name))\n",
        "plt.legend(loc='best')\n",
        "plt.show()"
      ],
      "execution_count": null,
      "outputs": [
        {
          "output_type": "display_data",
          "data": {
            "image/png": "[encoded data removed]",
            "text/plain": [
              "<Figure size 432x288 with 1 Axes>"
            ]
          },
          "metadata": {
            "tags": []
          }
        }
      ]
    },
    {
      "cell_type": "markdown",
      "metadata": {
        "id": "i2vm1ixqTwh2",
        "colab_type": "text"
      },
      "source": [
        "*Check your understanding:* From the previous notebook on fundamentals of machine learning, what is it called when the validation losses are very high and the train losses are very low?  What might we try to reduce this problem?\n",
        "\n",
        "(Try reducing the number of parameters of the network -- see exercise 10!)"
      ]
    },
    {
      "cell_type": "code",
      "metadata": {
        "id": "y4mugV8KizrV",
        "colab_type": "code",
        "colab": {}
      },
      "source": [
        "def plot_nino_time_series(y, predictions, title):\n",
        "  \"\"\"\n",
        "  inputs\n",
        "  ------\n",
        "    y           pd.Series : time series of the true Nino index\n",
        "    predictions np.array  : time series of the predicted Nino index (same\n",
        "                            length and time as y)\n",
        "    title                : the title of the plot\n",
        "\n",
        "  outputs\n",
        "  -------\n",
        "    None.  Displays the plot\n",
        "  \"\"\"\n",
        "  predictions = pd.Series(predictions, index=y.index)\n",
        "  predictions = predictions.sort_index()\n",
        "  y = y.sort_index()\n",
        "\n",
        "  plt.plot(y, label='Ground Truth')\n",
        "  plt.plot(predictions, '--', label='ML Predictions')\n",
        "  plt.legend(loc='best')\n",
        "  plt.title(title)\n",
        "  plt.ylabel('Nino3.4 Index')\n",
        "  plt.xlabel('Date')\n",
        "  plt.show()\n",
        "  plt.close()\n"
      ],
      "execution_count": null,
      "outputs": []
    },
    {
      "cell_type": "code",
      "metadata": {
        "id": "kjLmGc_PURb6",
        "colab_type": "code",
        "colab": {
          "base_uri": "https://localhost:8080/",
          "height": 295
        },
        "outputId": "a1036a63-00c9-4005-ea56-b1b4e72c9703"
      },
      "source": [
        "corr, _ = pearsonr(test_predictands, predictions)\n",
        "rmse = mean_squared_error(test_predictands, predictions) ** 0.5\n",
        "plot_nino_time_series(test_predictands, predictions, '{} Predictions. Corr: {:3f}. RMSE: {:3f}.'.format(experiment_name,\n",
        "                                                                      corr, rmse))"
      ],
      "execution_count": null,
      "outputs": [
        {
          "output_type": "display_data",
          "data": {
            "image/png": "[encoded data removed]",
            "text/plain": [
              "<Figure size 432x288 with 1 Axes>"
            ]
          },
          "metadata": {
            "tags": []
          }
        }
      ]
    },
    {
      "cell_type": "markdown",
      "metadata": {
        "id": "D15OsjWQcMvW",
        "colab_type": "text"
      },
      "source": [
        "# Exercise 2: Forecast ENSO with Traditional Machine Learning using sklearn\n",
        "\n",
        "Recall from the previous notebook that we used linear regression to forecast ENSO!  Try using other models for this task.  Explore the other models that sklearn has to offer, such as random forests!  Note: these traditional ML algorithms do not take advantage of the spatial nature of gridded datasets.  Therefore, they require the `data_format` argument to be set to 'flatten': the predictors are in the shape `(num_samples,lat*lon*num_time_steps)`.\n",
        "\n",
        "**GOAL OF THIS EXERCISE:** try exploring the performance of other algorithms in the sklearn suite.  Try changing the lead_time in the `assemble_predictors_predictands` method (it is set to 1 initially).  How do the models perform?"
      ]
    },
    {
      "cell_type": "code",
      "metadata": {
        "id": "VFSiSgagi0XZ",
        "colab_type": "code",
        "colab": {
          "base_uri": "https://localhost:8080/",
          "height": 295
        },
        "outputId": "7795e30f-dda7-4745-90e5-28fb4b428aa9"
      },
      "source": [
        "\"\"\"Plot the performance of linear regression at 1 month ahead lead time\"\"\"\n",
        "#1 month linear regression (lr) model\n",
        "train_start_date = '1990-01-01'\n",
        "train_end_date = '2005-12-31'\n",
        "num_input_time_steps = 2\n",
        "lead_time = 2 #change this and explore what happens!\n",
        "train_predictors, train_predictands = assemble_predictors_predictands(train_start_date,\n",
        "                      train_end_date, lead_time, 'observations', 'flatten', \n",
        "                      num_input_time_steps=num_input_time_steps)\n",
        "test_predictors, test_predictands = assemble_predictors_predictands('2007-01-01',\n",
        "                    '2017-12-31', lead_time, 'observations', 'flatten', \n",
        "                    num_input_time_steps=num_input_time_steps)\n",
        "\n",
        "regr_1_month_lr = sklearn.linear_model.LinearRegression()\n",
        "regr_1_month_lr.fit(train_predictors,train_predictands)\n",
        "\n",
        "sklearn_predictions = regr_1_month_lr.predict(test_predictors)\n",
        "corr, _ = scipy.stats.pearsonr(sklearn_predictions, test_predictands)\n",
        "rmse = mean_squared_error(sklearn_predictions, test_predictands)\n",
        "plot_nino_time_series(test_predictands, sklearn_predictions,\n",
        "    'Linear Regression Predicted and True Nino3.4 Indices on Test Set \\\n",
        "    at {} Month Lead Time. Corr: {:.2f}. RMSE: {:.2f}'.format(lead_time, corr, rmse))"
      ],
      "execution_count": null,
      "outputs": [
        {
          "output_type": "display_data",
          "data": {
            "image/png": "[encoded data removed]",
            "text/plain": [
              "<Figure size 432x288 with 1 Axes>"
            ]
          },
          "metadata": {
            "tags": []
          }
        }
      ]
    },
    {
      "cell_type": "markdown",
      "metadata": {
        "id": "_UMmbe9EcTlX",
        "colab_type": "text"
      },
      "source": [
        "# Exercise 3: How does the quantity of data affect the performance of a machine learning algorithm?  \n",
        "\n",
        "In the coding cell below, repeat the above training process for different length training datasets and test datasets!\n",
        "\n",
        "**GOAL OF THIS EXERCISE**: train 6 neural networks: one on 10 years of data, one on 20 years of data, one on 30 years of data,...,one on 60 years of data.  Make a line plot showing the performance of each of these neural networks.  The X axis of the plot is the number of years of training data, and the y axis is the Pearson R value on the test set.\n",
        "\n",
        "^Repeat the above for a traditional ML algorithm (e.g. linear regression) of your choice."
      ]
    },
    {
      "cell_type": "code",
      "metadata": {
        "id": "CdtbN1MfctVt",
        "colab_type": "code",
        "colab": {}
      },
      "source": [
        "for num_years in range(10,71,10):\n",
        "  \"\"\"YOUR CODE HERE\"\"\"\n",
        "  pass"
      ],
      "execution_count": null,
      "outputs": []
    },
    {
      "cell_type": "markdown",
      "metadata": {
        "id": "1hsWIrE7oBwj",
        "colab_type": "text"
      },
      "source": [
        "# Excercise 4: What data sources improve the ML algorithm? What data sources do not imprve the ML algorithm?\n",
        "\n",
        "Let's try training our ENSO forecasting model on old data (i.e. early 1900s) from the Cobe SST dataset.  There is significantly more uncertainty with this data than there is with newer data, since the advent of remote sensing and data sources has improved.\n",
        "\n",
        "**GOAL OF THIS EXERCISE**: generate two plots: one showing the time series of predicted and true Niño3.4 indices with an ML model trained on 1900-1930 data.  The other should show the same (time series of prediced and true Niño3.4 indices with a model trained on 1975-2005 data.  (Both trained algorithms should be tested on data from 2007-2018.)"
      ]
    },
    {
      "cell_type": "code",
      "metadata": {
        "id": "4YLqt40pBOC3",
        "colab_type": "code",
        "colab": {}
      },
      "source": [
        "for train_start_date, train_end_date in [(\"1900-01-01\", \"1930-12-31\"), (\"1975-01-01\", \"2005-12-31\")]:\n",
        "  \"\"\"YOUR CODE HERE\"\"\"\n",
        "  #Replicate the logic in the Exercise 1 and Exercise 2 to explore \n",
        "  #how well a CNN or traditional ML model does with the start \n",
        "  #and end dates defined above!  Plot the performance of the models!"
      ],
      "execution_count": null,
      "outputs": []
    },
    {
      "cell_type": "markdown",
      "metadata": {
        "id": "hNqDQKWMhq58",
        "colab_type": "text"
      },
      "source": [
        "# Exercise 5: Data wrangling: Do machine learning algorithms perform better with a classification problem or regression problem?\n",
        "\n",
        "Convert the problem from regression (predicting a continuous value) to classification (predicting a discrete value).  In this case, the continuous value is the exact value of the Niño3.4 index.  \n",
        "\n",
        "Let's bin the Niño3.4 index to two values: 0 and 1.  Let's say negative values of the Niño3.4 index should be mapped to 0 and positive values of the index should be mapped to 1.\n",
        "\n",
        "### Goal of the exercise:\n",
        "\n",
        "Train a neural network and an sklearn logistic regression model to predict 0 or 1 corresponding to the mapping above!  Try changing the neural network's loss function from `nn.MSELoss` to `nn.BCEWithLogitsLoss`!"
      ]
    },
    {
      "cell_type": "code",
      "metadata": {
        "id": "ILEpFSNSSzAl",
        "colab_type": "code",
        "colab": {}
      },
      "source": [
        "#1.Adjust the train_network method so that the target is always 0 or 1. Maybe add an\n",
        "# argument called \"classification\" that takes in a boolean value indicating\n",
        "# whether or not to map the target to 0 or 1.\n",
        "#2. Change the loss function of the neural network\n",
        "#3. Run the train_network method to get the neural network predictions\n",
        "#4. You will have to write your own code to calculate the accuracy of these predictions!"
      ],
      "execution_count": null,
      "outputs": []
    },
    {
      "cell_type": "markdown",
      "metadata": {
        "id": "LffHPD4zcv4S",
        "colab_type": "text"
      },
      "source": [
        "# Exercise 6: GCMS!\n",
        "\n",
        "In the deep learning for ENSO forecasting papers, the key breakthrough that allowed for state-of-the-art performance is that the algorithms were trained on global climate models (GCMs).  The availability of observed data is very limited.  With simulated data, neural networks are able to see more data and thus learn better.\n",
        "\n",
        "## Goal for this exercise:\n",
        "\n",
        "Train a neural network on data from GCMs.  The MPI GCM has data from the years 1850 to .  The CNRM GCM has data from the years .  Does more data help?  Does the increase in data make it possible to train on longer lead times?"
      ]
    },
    {
      "cell_type": "code",
      "metadata": {
        "id": "bnHyRz2DB4_J",
        "colab_type": "code",
        "colab": {
          "base_uri": "https://localhost:8080/",
          "height": 272
        },
        "outputId": "8ef394a9-527d-42ae-9a50-577b6da0093b"
      },
      "source": [
        "!wget http://portal.nersc.gov/project/dasrepo/AMS_ML_Tutorial/MPI_tas_anomalies_regridded.nc\n",
        "!wget http://portal.nersc.gov/project/dasrepo/AMS_ML_Tutorial/CNRM_tas_anomalies_regridded.nc"
      ],
      "execution_count": null,
      "outputs": [
        {
          "output_type": "stream",
          "text": [
            "--2020-01-12 08:51:56--  http://portal.nersc.gov/project/dasrepo/AMS_ML_Tutorial/MPI_tas_anomalies_regridded.nc\n",
            "Resolving portal.nersc.gov (portal.nersc.gov)... 128.55.201.128\n",
            "Connecting to portal.nersc.gov (portal.nersc.gov)|128.55.201.128|:80... connected.\n",
            "HTTP request sent, awaiting response... 301 Moved Permanently\n",
            "Location: https://portal.nersc.gov/project/dasrepo/AMS_ML_Tutorial/MPI_tas_anomalies_regridded.nc [following]\n",
            "--2020-01-12 08:51:57--  https://portal.nersc.gov/project/dasrepo/AMS_ML_Tutorial/MPI_tas_anomalies_regridded.nc\n",
            "Connecting to portal.nersc.gov (portal.nersc.gov)|128.55.201.128|:443... connected.\n",
            "HTTP request sent, awaiting response... 200 OK\n",
            "Length: 6220859592 (5.8G) [application/x-netcdf]\n",
            "Saving to: ‘MPI_tas_anomalies_regridded.nc’\n",
            "\n",
            "MPI_tas_anomalies_r 100%[===================>]   5.79G  19.2MB/s    in 5m 10s  \n",
            "\n",
            "2020-01-12 08:57:08 (19.1 MB/s) - ‘MPI_tas_anomalies_regridded.nc’ saved [6220859592/6220859592]\n",
            "\n"
          ],
          "name": "stdout"
        }
      ]
    },
    {
      "cell_type": "code",
      "metadata": {
        "id": "0ViGNVH9-KIz",
        "colab_type": "code",
        "colab": {
          "base_uri": "https://localhost:8080/",
          "height": 1000
        },
        "outputId": "3cdb32ff-c715-4055-d7a0-702891bb0f5b"
      },
      "source": [
        "#Assemble numpy arrays corresponding to predictors and predictands\n",
        "train_start_date = '1860-01-01'\n",
        "train_end_date = '2100-12-31'\n",
        "num_input_time_steps = 4\n",
        "lead_time = 5\n",
        "climate_model = 'MPI'\n",
        "\n",
        "\n",
        "train_predictors, train_predictands = assemble_predictors_predictands(train_start_date,\n",
        "                      train_end_date, lead_time, climate_model, 'spatial', num_input_time_steps=num_input_time_steps)\n",
        "test_predictors, test_predictands = assemble_predictors_predictands('2007-01-01',\n",
        "                    '2017-12-31', lead_time, 'observations', 'spatial', num_input_time_steps=num_input_time_steps)\n",
        "\n",
        "#Convert the numpy ararys into ENSODataset, which is a subset of the \n",
        "#torch.utils.data.Dataset class.  This class is compatible with\n",
        "#the torch dataloader, which allows for data loading for a CNN\n",
        "train_dataset = ENSODataset(train_predictors, train_predictands)\n",
        "test_dataset = ENSODataset(test_predictors, test_predictands)\n",
        "\n",
        "#Create a torch.utils.data.DataLoader from the ENSODatasets() created earlier!\n",
        "#the similarity between the name DataLoader and Dataset in the pytorch API is unfortunate...\n",
        "trainloader = DataLoader(train_dataset, batch_size=10)\n",
        "testloader = DataLoader(test_dataset, batch_size=10)\n",
        "net = CNN(num_input_time_steps=num_input_time_steps)\n",
        "optimizer = optim.Adam(net.parameters(), lr=0.0001)\n",
        "\n",
        "experiment_name = \"twolayerCNN_MPI_{}_{}\".format(train_start_date, train_end_date)\n",
        "predictions, train_losses, test_losses = train_network(net, nn.MSELoss(), \n",
        "                  optimizer, trainloader, testloader, experiment_name,\n",
        "                  num_epochs=10)"
      ],
      "execution_count": null,
      "outputs": [
        {
          "output_type": "stream",
          "text": [
            "/usr/local/lib/python3.6/dist-packages/xarray/coding/times.py:426: SerializationWarning: Unable to decode time axis into full numpy.datetime64 objects, continuing using cftime.datetime objects instead, reason: dates out of range\n",
            "  dtype = _decode_cf_datetime_dtype(data, units, calendar, self.use_cftime)\n",
            "/usr/local/lib/python3.6/dist-packages/numpy/core/_asarray.py:85: SerializationWarning: Unable to decode time axis into full numpy.datetime64 objects, continuing using cftime.datetime objects instead, reason: dates out of range\n",
            "  return array(a, dtype, copy=False, order=order)\n",
            "/usr/local/lib/python3.6/dist-packages/torch/nn/modules/loss.py:431: UserWarning: Using a target size (torch.Size([1])) that is different to the input size (torch.Size([])). This will likely lead to incorrect results due to broadcasting. Please ensure they have the same size.\n",
            "  return F.mse_loss(input, target, reduction=self.reduction)\n",
            "/usr/local/lib/python3.6/dist-packages/torch/serialization.py:292: UserWarning: Couldn't retrieve source code for container of type CNN. It won't be checked for correctness upon loading.\n",
            "  \"type \" + obj.__name__ + \". It won't be checked \"\n",
            "/usr/local/lib/python3.6/dist-packages/torch/serialization.py:292: UserWarning: Couldn't retrieve source code for container of type Conv2d. It won't be checked for correctness upon loading.\n",
            "  \"type \" + obj.__name__ + \". It won't be checked \"\n",
            "/usr/local/lib/python3.6/dist-packages/torch/serialization.py:292: UserWarning: Couldn't retrieve source code for container of type MaxPool2d. It won't be checked for correctness upon loading.\n",
            "  \"type \" + obj.__name__ + \". It won't be checked \"\n",
            "/usr/local/lib/python3.6/dist-packages/torch/serialization.py:292: UserWarning: Couldn't retrieve source code for container of type Print. It won't be checked for correctness upon loading.\n",
            "  \"type \" + obj.__name__ + \". It won't be checked \"\n",
            "/usr/local/lib/python3.6/dist-packages/torch/serialization.py:292: UserWarning: Couldn't retrieve source code for container of type Linear. It won't be checked for correctness upon loading.\n",
            "  \"type \" + obj.__name__ + \". It won't be checked \"\n"
          ],
          "name": "stderr"
        },
        {
          "output_type": "stream",
          "text": [
            "train Set: Epoch 01. loss: 0.498283\n",
            "test Set: Epoch 01. loss: 0.600355\n",
            "train Set: Epoch 02. loss: 0.244425\n",
            "test Set: Epoch 02. loss: 0.554685\n",
            "train Set: Epoch 03. loss: 0.189000\n",
            "test Set: Epoch 03. loss: 0.549613\n",
            "train Set: Epoch 04. loss: 0.157443\n",
            "test Set: Epoch 04. loss: 0.563844\n",
            "train Set: Epoch 05. loss: 0.135148\n",
            "test Set: Epoch 05. loss: 0.594642\n",
            "train Set: Epoch 06. loss: 0.116930\n",
            "test Set: Epoch 06. loss: 0.637654\n",
            "train Set: Epoch 07. loss: 0.102599\n",
            "test Set: Epoch 07. loss: 0.705201\n",
            "train Set: Epoch 08. loss: 0.091300\n",
            "test Set: Epoch 08. loss: 0.778733\n",
            "train Set: Epoch 09. loss: 0.081710\n",
            "test Set: Epoch 09. loss: 0.867195\n",
            "train Set: Epoch 10. loss: 0.080328\n",
            "test Set: Epoch 10. loss: 0.932288\n",
            "train Set: Epoch 11. loss: 0.105372\n",
            "test Set: Epoch 11. loss: 0.749722\n"
          ],
          "name": "stdout"
        },
        {
          "output_type": "error",
          "ename": "KeyboardInterrupt",
          "evalue": "ignored",
          "traceback": [
            "\u001b[0;31m---------------------------------------------------------------------------\u001b[0m",
            "\u001b[0;31mKeyboardInterrupt\u001b[0m                         Traceback (most recent call last)",
            "\u001b[0;32m<ipython-input-104-9fbe48d7ba55>\u001b[0m in \u001b[0;36m<module>\u001b[0;34m()\u001b[0m\n\u001b[1;32m     23\u001b[0m \u001b[0mexperiment_name\u001b[0m \u001b[0;34m=\u001b[0m \u001b[0;34m\"twolayerCNN_{}_{}\"\u001b[0m\u001b[0;34m.\u001b[0m\u001b[0mformat\u001b[0m\u001b[0;34m(\u001b[0m\u001b[0mtrain_start_date\u001b[0m\u001b[0;34m,\u001b[0m \u001b[0mtrain_end_date\u001b[0m\u001b[0;34m)\u001b[0m\u001b[0;34m\u001b[0m\u001b[0;34m\u001b[0m\u001b[0m\n\u001b[1;32m     24\u001b[0m predictions, train_losses, test_losses = train_network(net, nn.MSELoss(), \n\u001b[0;32m---> 25\u001b[0;31m                   optimizer, trainloader, testloader, experiment_name)\n\u001b[0m",
            "\u001b[0;32m<ipython-input-60-302b345bf9f6>\u001b[0m in \u001b[0;36mtrain_network\u001b[0;34m(net, criterion, optimizer, trainloader, testloader, experiment_name, num_epochs)\u001b[0m\n\u001b[1;32m     56\u001b[0m             \u001b[0;31m#the 'backward pass: calculates the gradients of each weight\u001b[0m\u001b[0;34m\u001b[0m\u001b[0;34m\u001b[0m\u001b[0;34m\u001b[0m\u001b[0m\n\u001b[1;32m     57\u001b[0m             \u001b[0;31m#of the neural network with respect to the loss\u001b[0m\u001b[0;34m\u001b[0m\u001b[0;34m\u001b[0m\u001b[0;34m\u001b[0m\u001b[0m\n\u001b[0;32m---> 58\u001b[0;31m             \u001b[0mloss\u001b[0m\u001b[0;34m.\u001b[0m\u001b[0mbackward\u001b[0m\u001b[0;34m(\u001b[0m\u001b[0;34m)\u001b[0m\u001b[0;34m\u001b[0m\u001b[0;34m\u001b[0m\u001b[0m\n\u001b[0m\u001b[1;32m     59\u001b[0m \u001b[0;34m\u001b[0m\u001b[0m\n\u001b[1;32m     60\u001b[0m             \u001b[0;31m#the optimizer updates the weights of the neural network\u001b[0m\u001b[0;34m\u001b[0m\u001b[0;34m\u001b[0m\u001b[0;34m\u001b[0m\u001b[0m\n",
            "\u001b[0;32m/usr/local/lib/python3.6/dist-packages/torch/tensor.py\u001b[0m in \u001b[0;36mbackward\u001b[0;34m(self, gradient, retain_graph, create_graph)\u001b[0m\n\u001b[1;32m    164\u001b[0m                 \u001b[0mproducts\u001b[0m\u001b[0;34m.\u001b[0m \u001b[0mDefaults\u001b[0m \u001b[0mto\u001b[0m\u001b[0;31m \u001b[0m\u001b[0;31m`\u001b[0m\u001b[0;31m`\u001b[0m\u001b[0;32mFalse\u001b[0m\u001b[0;31m`\u001b[0m\u001b[0;31m`\u001b[0m\u001b[0;34m.\u001b[0m\u001b[0;34m\u001b[0m\u001b[0;34m\u001b[0m\u001b[0m\n\u001b[1;32m    165\u001b[0m         \"\"\"\n\u001b[0;32m--> 166\u001b[0;31m         \u001b[0mtorch\u001b[0m\u001b[0;34m.\u001b[0m\u001b[0mautograd\u001b[0m\u001b[0;34m.\u001b[0m\u001b[0mbackward\u001b[0m\u001b[0;34m(\u001b[0m\u001b[0mself\u001b[0m\u001b[0;34m,\u001b[0m \u001b[0mgradient\u001b[0m\u001b[0;34m,\u001b[0m \u001b[0mretain_graph\u001b[0m\u001b[0;34m,\u001b[0m \u001b[0mcreate_graph\u001b[0m\u001b[0;34m)\u001b[0m\u001b[0;34m\u001b[0m\u001b[0;34m\u001b[0m\u001b[0m\n\u001b[0m\u001b[1;32m    167\u001b[0m \u001b[0;34m\u001b[0m\u001b[0m\n\u001b[1;32m    168\u001b[0m     \u001b[0;32mdef\u001b[0m \u001b[0mregister_hook\u001b[0m\u001b[0;34m(\u001b[0m\u001b[0mself\u001b[0m\u001b[0;34m,\u001b[0m \u001b[0mhook\u001b[0m\u001b[0;34m)\u001b[0m\u001b[0;34m:\u001b[0m\u001b[0;34m\u001b[0m\u001b[0;34m\u001b[0m\u001b[0m\n",
            "\u001b[0;32m/usr/local/lib/python3.6/dist-packages/torch/autograd/__init__.py\u001b[0m in \u001b[0;36mbackward\u001b[0;34m(tensors, grad_tensors, retain_graph, create_graph, grad_variables)\u001b[0m\n\u001b[1;32m     97\u001b[0m     Variable._execution_engine.run_backward(\n\u001b[1;32m     98\u001b[0m         \u001b[0mtensors\u001b[0m\u001b[0;34m,\u001b[0m \u001b[0mgrad_tensors\u001b[0m\u001b[0;34m,\u001b[0m \u001b[0mretain_graph\u001b[0m\u001b[0;34m,\u001b[0m \u001b[0mcreate_graph\u001b[0m\u001b[0;34m,\u001b[0m\u001b[0;34m\u001b[0m\u001b[0;34m\u001b[0m\u001b[0m\n\u001b[0;32m---> 99\u001b[0;31m         allow_unreachable=True)  # allow_unreachable flag\n\u001b[0m\u001b[1;32m    100\u001b[0m \u001b[0;34m\u001b[0m\u001b[0m\n\u001b[1;32m    101\u001b[0m \u001b[0;34m\u001b[0m\u001b[0m\n",
            "\u001b[0;31mKeyboardInterrupt\u001b[0m: "
          ]
        }
      ]
    },
    {
      "cell_type": "code",
      "metadata": {
        "id": "DhvTTfDI-h7g",
        "colab_type": "code",
        "colab": {
          "base_uri": "https://localhost:8080/",
          "height": 221
        },
        "outputId": "beefd664-e64e-4cc7-98b2-5d7f71055f50"
      },
      "source": [
        ""
      ],
      "execution_count": null,
      "outputs": [
        {
          "output_type": "execute_result",
          "data": {
            "text/plain": [
              "2      0.094166\n",
              "3      0.050656\n",
              "4     -0.001544\n",
              "5      0.070029\n",
              "6      0.199787\n",
              "         ...   \n",
              "548   -0.696969\n",
              "549   -0.613392\n",
              "550   -0.523622\n",
              "551   -0.487117\n",
              "552   -0.530010\n",
              "Length: 551, dtype: float64"
            ]
          },
          "metadata": {
            "tags": []
          },
          "execution_count": 93
        }
      ]
    },
    {
      "cell_type": "markdown",
      "metadata": {
        "id": "OjZ7OiNrh7Y7",
        "colab_type": "text"
      },
      "source": [
        "# Exercise 7: Data Wrangling.  Should the predictors be the entire globe? Or just a specific region?\n",
        "\n",
        "The Ham et. al. paper only uses Pacific temperatures to forecast the Niño3.4 index.  However, the Mahesh et. al. paper uses the entire globe.\n",
        "\n",
        "Hypothesize which method you think might be better!  What assumptions does your hypothesis rely on?  Recall the bias-variance tradeoff that we discussed in the previous notebook!\n",
        "\n",
        "\n",
        "*   Let's assume there is NO useful information for forecasting ENSO outside of the Pacific.  In other words, the rest of the world has no predictive power.  Would it make sense to use the entire globe as a predictor?  Discuss in the context of the bias-variance tradeoff.\n",
        "\n",
        "The reality is probably mixed: the rest of the globe has some predictive power, but it also has noise!  Therefore, it's a tradeoff, because noisy inputs hurt model performance, but predictive inputs help performance!"
      ]
    },
    {
      "cell_type": "markdown",
      "metadata": {
        "id": "h1pQIdCXYgMf",
        "colab_type": "text"
      },
      "source": [
        "## GOAL OF THIS EXERCISE\n",
        "\n",
        "Check out slicing xarray datasets by latitude and longitude at this [link](http://xarray.pydata.org/en/stable/generated/xarray.Dataset.sel.html).\n",
        "\n",
        "Fill in the code in the `assemble_predictors_predictands` method for the slicing!"
      ]
    },
    {
      "cell_type": "code",
      "metadata": {
        "id": "g74LlKlUB71u",
        "colab_type": "code",
        "colab": {}
      },
      "source": [
        "#Assemble numpy arrays corresponding to predictors and predictands\n",
        "train_start_date = '1960-01-01'\n",
        "train_end_date = '2005-12-31'\n",
        "num_input_time_steps = 3\n",
        "lead_time = 1\n",
        "#Extract the following slice of latitude\n",
        "lat_slice = slice(-10, 10)\n",
        "#Extract the following slice of longitude\n",
        "lon_slice = slice(360-170,360-120)\n",
        "train_predictors, train_predictands = assemble_predictors_predictands(train_start_date,\n",
        "                      train_end_date, lead_time, 'observations', 'spatial', \n",
        "                      num_input_time_steps=num_input_time_steps, lat_slice=lat_slice,\n",
        "                      lon_slice=lon_slice)\n",
        "test_predictors, test_predictands = assemble_predictors_predictands('2007-01-01',\n",
        "                    '2017-12-31', lead_time, 'observations', 'spatial', \n",
        "                    num_input_time_steps=num_input_time_steps, lat_slice=lat_slice,\n",
        "                    lon_slice=lon_slice)\n",
        "\n",
        "regr_1_month_lr = sklearn.linear_model.LinearRegression()\n",
        "regr_1_month_lr.fit(train_predictors,train_predictands)\n",
        "\n",
        "predictions = regr_1_month_lr.predict(test_predictors)\n",
        "corr, _ = scipy.stats.pearsonr(predictions, test_predictands)\n",
        "rmse = mean_squared_error(predictions, test_predictands)\n",
        "plot_nino_time_series(test_predictands, predictions,\n",
        "    'Linear Regression Predicted and True Nino3.4 Indices on Test Set \\\n",
        "    at {} Month Lead Time. Corr: {:.2f}. RMSE: {:.2f}'.format(lead_time, corr, rmse))"
      ],
      "execution_count": null,
      "outputs": []
    },
    {
      "cell_type": "markdown",
      "metadata": {
        "id": "ZpWAhl0dX0p1",
        "colab_type": "text"
      },
      "source": [
        "Now, let's do a sanity check.  Let's change `lat_slice` and `lon_slice` to random regions, where it is unlikely there is any ENSO signal.  Let's observe the performance of the model!"
      ]
    },
    {
      "cell_type": "code",
      "metadata": {
        "id": "PY754huFXxsK",
        "colab_type": "code",
        "colab": {
          "base_uri": "https://localhost:8080/",
          "height": 371
        },
        "outputId": "21cc4071-f090-424f-a489-ddeda6f551c1"
      },
      "source": [
        "#Aassemble numpy arrays corresponding to predictors and predictands\n",
        "train_start_date = '1960-01-01'\n",
        "train_end_date = '2005-12-31'\n",
        "num_input_time_steps = 3\n",
        "lead_time = 1\n",
        "#Extract the following slice of latitude\n",
        "lat_slice = slice(-50, 40)\n",
        "#Extract the following slice of longitude\n",
        "lon_slice = slice(0,100)\n",
        "train_predictors, train_predictands = assemble_predictors_predictands(train_start_date,\n",
        "                      train_end_date, lead_time, 'observations', 'flatten', \n",
        "                      num_input_time_steps=num_input_time_steps, lat_slice=lat_slice,\n",
        "                      lon_slice=lon_slice)\n",
        "test_predictors, test_predictands = assemble_predictors_predictands('2007-01-01',\n",
        "                    '2017-12-31', lead_time, 'observations', 'flatten', \n",
        "                    num_input_time_steps=num_input_time_steps, lat_slice=lat_slice,\n",
        "                    lon_slice=lon_slice)\n",
        "\n",
        "regr_1_month_lr = sklearn.linear_model.LinearRegression()\n",
        "regr_1_month_lr.fit(train_predictors,train_predictands)\n",
        "\n",
        "predictions = regr_1_month_lr.predict(test_predictors)\n",
        "corr, _ = scipy.stats.pearsonr(predictions, test_predictands)\n",
        "rmse = mean_squared_error(predictions, test_predictands)\n",
        "plot_nino_time_series(test_predictands, predictions,\n",
        "    'Linear Regression Predicted (Using Nonsense Predictors) and True Nino3.4 Indices on Test Set \\\n",
        "    at {} Month Lead Time. Corr: {:.2f}. RMSE: {:.2f}'.format(lead_time, corr, rmse))"
      ],
      "execution_count": null,
      "outputs": [
        {
          "output_type": "error",
          "ename": "NotImplementedError",
          "evalue": "ignored",
          "traceback": [
            "\u001b[0;31m---------------------------------------------------------------------------\u001b[0m",
            "\u001b[0;31mNotImplementedError\u001b[0m                       Traceback (most recent call last)",
            "\u001b[0;32m<ipython-input-49-3cbdafb0eaa4>\u001b[0m in \u001b[0;36m<module>\u001b[0;34m()\u001b[0m\n\u001b[1;32m     10\u001b[0m                       \u001b[0mtrain_end_date\u001b[0m\u001b[0;34m,\u001b[0m \u001b[0mlead_time\u001b[0m\u001b[0;34m,\u001b[0m \u001b[0;34m'observations'\u001b[0m\u001b[0;34m,\u001b[0m \u001b[0;34m'flatten'\u001b[0m\u001b[0;34m,\u001b[0m\u001b[0;34m\u001b[0m\u001b[0;34m\u001b[0m\u001b[0m\n\u001b[1;32m     11\u001b[0m                       \u001b[0mnum_input_time_steps\u001b[0m\u001b[0;34m=\u001b[0m\u001b[0mnum_input_time_steps\u001b[0m\u001b[0;34m,\u001b[0m \u001b[0mlat_slice\u001b[0m\u001b[0;34m=\u001b[0m\u001b[0mlat_slice\u001b[0m\u001b[0;34m,\u001b[0m\u001b[0;34m\u001b[0m\u001b[0;34m\u001b[0m\u001b[0m\n\u001b[0;32m---> 12\u001b[0;31m                       lon_slice=lon_slice)\n\u001b[0m\u001b[1;32m     13\u001b[0m test_predictors, test_predictands = assemble_predictors_predictands('2007-01-01',\n\u001b[1;32m     14\u001b[0m                     \u001b[0;34m'2017-12-31'\u001b[0m\u001b[0;34m,\u001b[0m \u001b[0mlead_time\u001b[0m\u001b[0;34m,\u001b[0m \u001b[0;34m'observations'\u001b[0m\u001b[0;34m,\u001b[0m \u001b[0;34m'flatten'\u001b[0m\u001b[0;34m,\u001b[0m\u001b[0;34m\u001b[0m\u001b[0;34m\u001b[0m\u001b[0m\n",
            "\u001b[0;32m<ipython-input-48-a7d4e59363c2>\u001b[0m in \u001b[0;36massemble_predictors_predictands\u001b[0;34m(start_date, end_date, lead_time, dataset, data_format, num_input_time_steps, use_pca, n_components, lat_slice, lon_slice)\u001b[0m\n\u001b[1;32m     67\u001b[0m   \u001b[0;32mif\u001b[0m \u001b[0mlat_slice\u001b[0m \u001b[0;32mis\u001b[0m \u001b[0;32mnot\u001b[0m \u001b[0;32mNone\u001b[0m\u001b[0;34m:\u001b[0m\u001b[0;34m\u001b[0m\u001b[0;34m\u001b[0m\u001b[0m\n\u001b[1;32m     68\u001b[0m     \u001b[0;34m\"\"\"YOUR CODE HERE\"\"\"\u001b[0m\u001b[0;34m\u001b[0m\u001b[0;34m\u001b[0m\u001b[0m\n\u001b[0;32m---> 69\u001b[0;31m     \u001b[0;32mraise\u001b[0m \u001b[0mNotImplementedError\u001b[0m\u001b[0;34m(\u001b[0m\u001b[0;34m\"In EXERCISE 7, you must implement the slicing!\"\u001b[0m\u001b[0;34m)\u001b[0m\u001b[0;34m\u001b[0m\u001b[0;34m\u001b[0m\u001b[0m\n\u001b[0m\u001b[1;32m     70\u001b[0m   \u001b[0;32mif\u001b[0m \u001b[0mlon_slice\u001b[0m \u001b[0;32mis\u001b[0m \u001b[0;32mnot\u001b[0m \u001b[0;32mNone\u001b[0m\u001b[0;34m:\u001b[0m\u001b[0;34m\u001b[0m\u001b[0;34m\u001b[0m\u001b[0m\n\u001b[1;32m     71\u001b[0m     \u001b[0;34m\"\"\"YOUR CODE HERE\"\"\"\u001b[0m\u001b[0;34m\u001b[0m\u001b[0;34m\u001b[0m\u001b[0m\n",
            "\u001b[0;31mNotImplementedError\u001b[0m: In EXERCISE 7, you must implement the slicing!"
          ]
        }
      ]
    },
    {
      "cell_type": "markdown",
      "metadata": {
        "id": "evDYDIpwlwnb",
        "colab_type": "text"
      },
      "source": [
        "#Excercise 8: Time Series of Gridded Monthly Temperature.  \n",
        "\n",
        "Our inputs have so far have had 3 input months as each predictor, that is, `num_input_time_steps=3`.  Let's try changing this value and see how it affects the performance of our model!\n",
        "\n",
        "**GOAL OF THIS EXERCISE:** Make a 2D matrix.  One axis denotes different values of `num_input_time_steps` . The other axis denotes different lead_times.  Plot the resulting matrix!"
      ]
    },
    {
      "cell_type": "code",
      "metadata": {
        "id": "5vhXS2mHQxCB",
        "colab_type": "code",
        "colab": {}
      },
      "source": [
        "for num_input_time_steps in range(1,7):\n",
        "  for lead_time in range(1,5):\n",
        "    experiment_name = \"twolayerCNN_lead-{}_input-{}\".format(num_input_time_steps, \n",
        "                                                            lead_time)\n",
        "    \"\"\"YOUR CODE HERE\"\"\"\n",
        "    #Train and evaluate an ML algorithm of your choice on different\n",
        "    #combinations of lead_time and num_input_time_steps.\n",
        "    #Use plt.matshow to plot your results!"
      ],
      "execution_count": null,
      "outputs": []
    },
    {
      "cell_type": "markdown",
      "metadata": {
        "id": "uaED6vRWiELA",
        "colab_type": "text"
      },
      "source": [
        "# Exercise 9: Get the best ENSO forecasting algorithm!  (Tip: check out ensembling between algorithms and try hyperparameter tuning.)\n",
        "\n",
        "Do deeper neural networks with more convolutional layers help?\n",
        "Try changing the hyperparameters of the neural network\n",
        "\n",
        "*   learning rate\n",
        "*   the choice of optimizer\n",
        "*   the size of the convolution filters\n",
        "*   the number of convolution filters\n",
        "*   the number of weights in the fully connected layers\n",
        "\n",
        "Does adding a time series of gridded monthly temperature as your predictor help?\n",
        "\n",
        "Ensemble predictions from multiple different algorithms! Try using traditional ML, artificial neural networks, and convolutional neural networks.\n",
        "\n",
        "Recall from the previous notebook: models with many parameters (i.e. very deep neural networks or very deep decision trees) are more likely to have very low bias and very high variance: they will likely overfit!"
      ]
    },
    {
      "cell_type": "markdown",
      "metadata": {
        "id": "B0BoMrMvFzFJ",
        "colab_type": "text"
      },
      "source": [
        "## Kaggle:\n",
        "\n",
        "We will have a friendly competition.  *Develop a Nino3.4 Forecasting system for a lead_time of 5 months?* Submit your results to the kaggle link: https://www.kaggle.com/c/ams2020mlworkshop \n",
        "\n",
        "Details of the kaggle competition: just like in the first code cell, we will test our code on data from 2007-01-01 to 2017-12-31.  The data loader is reproduced below!  There are 131 predictor/predictand pairs between these dates.  Therefore, your entry should be exactly 131 numbers!  "
      ]
    },
    {
      "cell_type": "code",
      "metadata": {
        "id": "O2GGh5_AQW0L",
        "colab_type": "code",
        "colab": {
          "base_uri": "https://localhost:8080/",
          "height": 130
        },
        "outputId": "4fe5c657-aced-4bbc-80fa-86127040ab24"
      },
      "source": [
        "#Select the data parameters for your model(s)!\n",
        "lead_time = 5\n",
        "data_format = raise NotImplementedError(\"Select a data format for your kaggle entry!\")\n",
        "lat_slice = raise NotImplementedError(\"Select a lat slice for your kaggle entry!\")\n",
        "lon_slice = raise NotImplementedError(\"Select a lon slice for your kaggle entry!\")\n",
        "num_input_time_steps = 3 #Do not change this!\n",
        "use_pca = raise NotImplementedError(\"You decide if you would like to use PCA on the input predictors!\")\n",
        "n_components = raise NotImplementedError(\"You decide how many principal components to use on the input predictors!\")\n",
        "train_predictors, train_predictands = \"\"\"YOUR CODE HERE: assemble predictors predictands how you see fit\"\"\"\n",
        "\n",
        "train_predictors, train_predictands = assemble_predictors_predictands('YOUR CHOICE OF START DATE',\n",
        "                    'YOUR CHOICE OF END DATE', lead_time=5, dataset='observations', \n",
        "                    data_format=data_format, num_input_time_steps=num_input_time_steps,\n",
        "                    use_pca=use_pca, n_components=n_components)\n",
        "#Do not change the line below for your kaggle submission\n",
        "test_predictors, test_predictands = assemble_predictors_predictands('2007-01-01',\n",
        "                    '2017-12-31', lead_time=5, dataset='observations', \n",
        "                    data_format=data_format, num_input_time_steps=num_input_time_steps,\n",
        "                    use_pca=use_pca, n_components=n_components)\n",
        "\n",
        "#If using deep learning:\n",
        "# create an ENSODataset and DataLoader\n",
        "#object (see code cell in Exercise 1) and use the `train_network` method to \n",
        "#extract predictions!\n",
        "train_dataset = ENSODataset(train_predictors, train_predictands)\n",
        "test_dataset = ENSODataset(test_predictors, test_predictands)\n",
        "trainloader = DataLoader(train_dataset, batch_size=10)\n",
        "testloader = DataLoader(test_dataset, batch_size=10)\n",
        "cnn_predictions, _, _ = train_network()\n",
        "\n",
        "\n",
        "#If using regular traditional ML with sklearn:\n",
        "sklearn_model = #choose sklearn model\n",
        "sklearn_model.fit(train_predictors,train_predictands)\n",
        "\n",
        "sklearn_predictions = sklearn_model.predict(test_predictors)\n",
        "\n",
        "\n",
        "#Ensemble predictions from multiple algorithms\n",
        "#(i.e. take the average of predictions from multiple algorithms!)\n",
        "predictions = (cnn_predictions +sklearn_predictions)/2.0\n",
        "\n"
      ],
      "execution_count": null,
      "outputs": [
        {
          "output_type": "error",
          "ename": "SyntaxError",
          "evalue": "ignored",
          "traceback": [
            "\u001b[0;36m  File \u001b[0;32m\"<ipython-input-74-b18a4f7dee8b>\"\u001b[0;36m, line \u001b[0;32m2\u001b[0m\n\u001b[0;31m    data_format = raise NotImplementedError(\"Select a data format for your kaggle entry!\")\u001b[0m\n\u001b[0m                      ^\u001b[0m\n\u001b[0;31mSyntaxError\u001b[0m\u001b[0;31m:\u001b[0m invalid syntax\n"
          ]
        }
      ]
    },
    {
      "cell_type": "code",
      "metadata": {
        "id": "flMfcTdQ31dv",
        "colab_type": "code",
        "colab": {}
      },
      "source": [
        "#TO GENERATE A kaggle READY SUBMISSION:\n",
        "import pandas as pd\n",
        "submission_df = pd.DataFrame()\n",
        "submission_df['Id'] = np.arange(130)\n",
        "submission_df['Predicted'] = np.random.uniform(size=(130)) #replace with your predictions!\n",
        "submission_df.to_csv('submission.csv',index=False)\n",
        "from google.colab import files\n",
        "files.download('submission.csv') "
      ],
      "execution_count": null,
      "outputs": []
    },
    {
      "cell_type": "markdown",
      "metadata": {
        "id": "et6VXtBl61zY",
        "colab_type": "text"
      },
      "source": [
        "## Tip when changing convolutional layers:\n",
        "\n",
        "When you are changing the size of convolution filter windows, pay special attention to the comment starting with \"ATTENTION EXERCISE 9\" in the `CNN` class.  This is a  TOUGH part of designing neural networks, especially in climate data where data is of many different grids!!  And it automatically causes your code to break!\n",
        "\n",
        "After the convolution layers, [\"features\"](https://deepai.org/machine-learning-glossary-and-terms/feature-extraction) have been extracted from the input image.  These features are not necessarily of the same dimension as the input, but these features are spatial (that is, they are of the shape (batch_size, num_input_channels, lat, lon).  \n",
        "\n",
        "We want to map these features to the value of the Niño3.4 index.  To do this mapping, we need a Linear (fully connected layer).  This Linear layer performs a matrix multiplication between the extracted features from the convolution layers and the weights of the linear layer.  Thus, it must know the dimensions of the features ahead of time.\n",
        "\n",
        "The \"Print\" layer prints out the dimension of the extracted features.  Thus, we can design the linear layer accordingly, since the Linear layer requires the dimension of the input in order to perform a matrix multiplication.  \n",
        "\n",
        "Of course, it is also possible and preferred to calculate the dimensions of the extracted features, using the formulas [here](http://cs231n.github.io/convolutional-networks/#conv).  Using the \"Print\" layer is a hacky get-around!"
      ]
    },
    {
      "cell_type": "markdown",
      "metadata": {
        "id": "k6PZL5DzCGI-",
        "colab_type": "text"
      },
      "source": [
        "# CHALLENGE EXERCISE 10: Do not just forecast ENSO.  Use this toolkit to forecast seasonal temperatures on land!\n",
        "\n",
        "The machine learning framework we have developed here relies on assembling a set of predictors and predictands.  Thus far, the predictors have been surface temperature and the predictands have been the Nino3.4 index.  However, what if we wanted to forecast something else on seasonal time scales?  \n",
        "\n",
        "\n",
        "In this section, please adjust the `assemble_predictors_predictands` methods to take into account ARBITRARY locations as predictors.  By default, the method uses the Nino3.4 Index.  Then, train a model to forecast temperature at regions you are interested in.\n",
        "\n",
        "For the purpose of comparison, we will ask everyone to forecast temperature at these location at a lead time of 3 months:\n",
        "\n",
        "\n",
        "\n",
        "*  Akron, Ohio: lat = 41, lon = 360-81\n",
        "*  Mexico City, Mexico: lat = 19, lon = 360-99\n",
        "*  Lima, Peru: lat = -12, 360-77\n",
        "\n",
        "\n",
        "How does the forecasting performance change at these regions?\n",
        "\n",
        "Feel free to test on any other regions you like and submit those as well.  We would love to the performance of your models at other regions as well."
      ]
    },
    {
      "cell_type": "code",
      "metadata": {
        "id": "joy1tS5ICFuo",
        "colab_type": "code",
        "colab": {
          "base_uri": "https://localhost:8080/",
          "height": 34
        },
        "outputId": "5308bf8d-0a13-4533-e7d7-4dc3d8353561"
      },
      "source": [
        "\"\"\"YOUR CODE HERE\"\"\""
      ],
      "execution_count": 1,
      "outputs": [
        {
          "output_type": "execute_result",
          "data": {
            "text/plain": [
              "'YOUR CODE HERE'"
            ]
          },
          "metadata": {
            "tags": []
          },
          "execution_count": 1
        }
      ]
    },
    {
      "cell_type": "markdown",
      "metadata": {
        "id": "uTMW60ziN7dv",
        "colab_type": "text"
      },
      "source": [
        "#CHALLENGE EXERCISE 11: CNNs+LSTMs\n",
        "\n",
        "If num_input_time_steps is greater than 1, then the model uses a time series of inputs to make its prediction.  Recurrent neural networks (with Long Short Term Memory (LSTM) architectures) are used for this purpose!  \n",
        "\n",
        "**GOAL OF THIS EXERCISE:** Design a recurrent neural network (called an LSTM) for ENSO forecasting. For each input time step, \n",
        "\n",
        "1.   a CNN should extract features\n",
        "2.   These features should then be fed into an LSTM\n",
        "\n",
        "(The LSTM decides which parts of the features to remember and which to forget)\n",
        "\n",
        "After the last input time step is fed into the LSTM, the model should use fully connected layers to make a forecast."
      ]
    },
    {
      "cell_type": "code",
      "metadata": {
        "id": "8YBSE9jSN6cr",
        "colab_type": "code",
        "colab": {}
      },
      "source": [
        "class CNNandLSTM(nn.Module):\n",
        "  \"\"\"YOUR CODE HERE\"\"\""
      ],
      "execution_count": null,
      "outputs": []
    },
    {
      "cell_type": "code",
      "metadata": {
        "id": "yccM72TiO-oT",
        "colab_type": "code",
        "colab": {
          "base_uri": "https://localhost:8080/",
          "height": 34
        },
        "outputId": "38db673c-5834-4424-e693-6cfbc2c3cc1c"
      },
      "source": [
        "\"\"\"Use the logic above to create a train and test dataloader!  Evaluate your CNN+LSTM!\"\"\""
      ],
      "execution_count": null,
      "outputs": [
        {
          "output_type": "execute_result",
          "data": {
            "text/plain": [
              "'Use the logic above to create a train and test dataloader!  Evaluate your CNN+LSTM!'"
            ]
          },
          "metadata": {
            "tags": []
          },
          "execution_count": 42
        }
      ]
    },
    {
      "cell_type": "markdown",
      "metadata": {
        "id": "gcwgIVYrdEAq",
        "colab_type": "text"
      },
      "source": [
        "# BONUS FUN EXERCISE (for numpy enthusiasts): \n",
        "\n",
        "In the `assemble_predictors_predictands` method, there is a comment starting with \"#CHALLENGE:\".  Can you implement the line above without using a `for` loop? (An implementation without a `for loop` is called a vectorized implementation, and it increases the speed.)\n",
        "\n",
        "This is the line in question:\n",
        "\n",
        "`sst = np.stack([sst.values[n-num_input_time_steps:n] for n in range(num_input_time_steps,num_samples+1)])`\n",
        "\n",
        "Here is what the line is doing:\n",
        "\n",
        "`sst` is a 3D array `(num_samples, lat, lon)`.  This would be great if our ML model only took one input time step as its predictor. However, we use ML models in which each predictor is a time series of gridded temperature data.  Therefore, we want to change the array to `(num_samples, num_input_time_steps, lat, lon)`.  \n",
        "\n",
        "For example, the original `sst` array would be in the following format:\n",
        "```\n",
        "sst[0] = gridded January temperature; shape: (lat, lon)\n",
        "sst[1] = gridded February temperature; shape: (lat, lon)\n",
        "sst[2] = gridded March temperature; shape: (lat, lon)\n",
        "```\n",
        "\n",
        "If `num_input_time_steps` is 3, the line changes it to:\n",
        "```\n",
        "sst[0] = gridded January, February, March temperature; shape: (3, lat, lon)\n",
        "sst[1] = gridded February, March, April temperature; shape: (3, lat, lon)\n",
        "sst[2] = gridded March, April, May temperature; shape: (3, lat, lon)\n",
        "and so on\n",
        "```\n",
        "\n",
        "Try making this change without a for loop!\n"
      ]
    }
  ]
}